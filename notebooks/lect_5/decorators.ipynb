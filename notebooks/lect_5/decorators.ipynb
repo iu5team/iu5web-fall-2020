{
 "cells": [
  {
   "cell_type": "markdown",
   "metadata": {},
   "source": [
    "# Декораторы функций"
   ]
  },
  {
   "cell_type": "markdown",
   "metadata": {},
   "source": [
    "Механизм декораторов напоминает аннотации в языке C#. Но в C# аннотация являлась пассивной структурой, которая  \"приклеивалась\" к необходимому элементу и была доступна в откомпилированной сборке.\n",
    "\n",
    "Декоратор функции представляет собой функцию высшего порядка, и, в отличие от аннотации, выполняет необходимый код.\n",
    "\n",
    "Работа декораторов строится на том, что функция в Питоне является \"объектом первого порядка\" - ее можно вернуть из функции или передать в функцию."
   ]
  },
  {
   "cell_type": "code",
   "execution_count": 1,
   "metadata": {},
   "outputs": [],
   "source": [
    "def return_func():\n",
    "\n",
    "    def func_inside():\n",
    "        print(\"I'm inside\")\n",
    "\n",
    "    print(\"I'm outside\")\n",
    "    return func_inside"
   ]
  },
  {
   "cell_type": "code",
   "execution_count": 2,
   "metadata": {},
   "outputs": [
    {
     "name": "stdout",
     "output_type": "stream",
     "text": [
      "I'm outside\n"
     ]
    },
    {
     "data": {
      "text/plain": [
       "<function __main__.return_func.<locals>.func_inside()>"
      ]
     },
     "execution_count": 2,
     "metadata": {},
     "output_type": "execute_result"
    }
   ],
   "source": [
    "return_func()"
   ]
  },
  {
   "cell_type": "code",
   "execution_count": 3,
   "metadata": {},
   "outputs": [
    {
     "name": "stdout",
     "output_type": "stream",
     "text": [
      "I'm outside\n",
      "I'm inside\n"
     ]
    }
   ],
   "source": [
    "return_func()()"
   ]
  },
  {
   "cell_type": "code",
   "execution_count": 4,
   "metadata": {},
   "outputs": [
    {
     "name": "stdout",
     "output_type": "stream",
     "text": [
      "accept_func\n",
      "my_func\n"
     ]
    }
   ],
   "source": [
    "def accept_func(some_func):\n",
    "    print(\"accept_func\")\n",
    "    some_func()\n",
    "\n",
    "\n",
    "def my_func():\n",
    "    print(\"my_func\")\n",
    "\n",
    "\n",
    "accept_func(my_func)"
   ]
  },
  {
   "cell_type": "code",
   "execution_count": 5,
   "metadata": {},
   "outputs": [
    {
     "name": "stdout",
     "output_type": "stream",
     "text": [
      "before\n",
      "my_func\n",
      "after\n"
     ]
    }
   ],
   "source": [
    "def decorator(some_func):\n",
    "    print(\"before\")\n",
    "    some_func()\n",
    "    print(\"after\")\n",
    "\n",
    "\n",
    "def my_func():\n",
    "    print(\"my_func\")\n",
    "\n",
    "\n",
    "decorator(my_func)"
   ]
  },
  {
   "cell_type": "code",
   "execution_count": 6,
   "metadata": {},
   "outputs": [
    {
     "name": "stdout",
     "output_type": "stream",
     "text": [
      "before\n",
      "my_func\n",
      "after\n"
     ]
    }
   ],
   "source": [
    "def my_decorator(func_to_decorate): # 1. Функция, которая\n",
    "\n",
    "    def decorated_func():\n",
    "        print(\"before\")\n",
    "        func_to_decorate() # 3. В которую завернута декорируемая функция\n",
    "        print(\"after\")\n",
    "\n",
    "    return decorated_func # 2. возвращает функцию,\n",
    "\n",
    "\n",
    "def my_func():\n",
    "    print(\"my_func\")\n",
    "\n",
    "\n",
    "decorated = my_decorator(my_func)\n",
    "decorated()"
   ]
  },
  {
   "cell_type": "code",
   "execution_count": 7,
   "metadata": {},
   "outputs": [],
   "source": [
    "@my_decorator\n",
    "def my_func2():\n",
    "    print(\"my_func2\")"
   ]
  },
  {
   "cell_type": "code",
   "execution_count": 8,
   "metadata": {
    "scrolled": true
   },
   "outputs": [
    {
     "name": "stdout",
     "output_type": "stream",
     "text": [
      "before\n",
      "my_func2\n",
      "after\n"
     ]
    }
   ],
   "source": [
    "my_func2()"
   ]
  },
  {
   "cell_type": "code",
   "execution_count": 9,
   "metadata": {},
   "outputs": [
    {
     "name": "stdout",
     "output_type": "stream",
     "text": [
      "decorator_arg = 5\n",
      "my_func3\n"
     ]
    }
   ],
   "source": [
    "def decorator_creator(decorator_arg):\n",
    "    def my_decorator(func_to_decorate):\n",
    "        def decorated_func():\n",
    "            # Мы обращаемся к параметрам с использованием \n",
    "            # механизма замыканий, здесь это оправдано\n",
    "            print(\"decorator_arg = {}\".format(decorator_arg))\n",
    "            func_to_decorate()\n",
    "        return decorated_func\n",
    "    return my_decorator\n",
    "\n",
    "\n",
    "@decorator_creator(5) # Результат вызова - my_decorator\n",
    "def my_func3():\n",
    "    print(\"my_func3\")\n",
    "\n",
    "my_func3()"
   ]
  },
  {
   "cell_type": "code",
   "execution_count": 10,
   "metadata": {
    "scrolled": true
   },
   "outputs": [],
   "source": [
    "#my_func3(1,2,3)"
   ]
  },
  {
   "cell_type": "code",
   "execution_count": 11,
   "metadata": {},
   "outputs": [],
   "source": [
    "def benchmark(func):\n",
    "    import time\n",
    "\n",
    "    def wrapper(*args, **kwargs):\n",
    "        t = time.clock()\n",
    "        res = func(*args, **kwargs)\n",
    "        print(func.__name__, time.clock() - t)\n",
    "        return res\n",
    "\n",
    "    return wrapper"
   ]
  },
  {
   "cell_type": "code",
   "execution_count": 12,
   "metadata": {},
   "outputs": [],
   "source": [
    "def logging(func):\n",
    "    def wrapper(*args, **kwargs):\n",
    "        res = func(*args, **kwargs)\n",
    "        print(func.__name__, args, kwargs)\n",
    "        return res\n",
    "\n",
    "    return wrapper"
   ]
  },
  {
   "cell_type": "code",
   "execution_count": 13,
   "metadata": {},
   "outputs": [],
   "source": [
    "@logging\n",
    "def my_func4(p1, p2):\n",
    "    print(p1, p2)"
   ]
  },
  {
   "cell_type": "code",
   "execution_count": 14,
   "metadata": {
    "scrolled": true
   },
   "outputs": [
    {
     "name": "stdout",
     "output_type": "stream",
     "text": [
      "1 2\n",
      "my_func4 (1, 2) {}\n"
     ]
    }
   ],
   "source": [
    "my_func4(1,2)"
   ]
  },
  {
   "cell_type": "code",
   "execution_count": 15,
   "metadata": {},
   "outputs": [],
   "source": [
    "def logging_with_params(par1, par2):\n",
    "    def logging(func):\n",
    "        def wrapper(*args, **kwargs):\n",
    "            print('Decorator arguments:', par1, par2)\n",
    "            res = func(*args, **kwargs)\n",
    "            print(func.__name__, args, kwargs)\n",
    "            return res\n",
    "\n",
    "        return wrapper\n",
    "    return logging"
   ]
  },
  {
   "cell_type": "code",
   "execution_count": 16,
   "metadata": {},
   "outputs": [],
   "source": [
    "@logging_with_params(1,2)\n",
    "def my_func5(p1, p2):\n",
    "    print(p1, p2)"
   ]
  },
  {
   "cell_type": "code",
   "execution_count": 17,
   "metadata": {
    "scrolled": true
   },
   "outputs": [
    {
     "name": "stdout",
     "output_type": "stream",
     "text": [
      "Decorator arguments: 1 2\n",
      "1 2\n",
      "my_func5 (1, 2) {}\n"
     ]
    }
   ],
   "source": [
    "my_func5(1,2)"
   ]
  },
  {
   "cell_type": "code",
   "execution_count": 18,
   "metadata": {},
   "outputs": [],
   "source": [
    "def logging_with_params2(*args, **kwargs):\n",
    "    \n",
    "    print('=====================================')\n",
    "    print('Arguments:')\n",
    "    for arg in args:\n",
    "        print(arg)\n",
    "    print('\\nKeywords:')\n",
    "    for key in kwargs:\n",
    "        print('{} = {}'.format(key, kwargs[key]))       \n",
    "    print('=====================================')\n",
    "    \n",
    "    par1 = args[0]\n",
    "    par2 = args[1]\n",
    "    \n",
    "    def logging(func):\n",
    "        def wrapper(*args, **kwargs):\n",
    "            print('Decorator arguments:', par1, par2)\n",
    "            res = func(*args, **kwargs)\n",
    "            print(func.__name__, args, kwargs)\n",
    "            return res\n",
    "\n",
    "        return wrapper\n",
    "    return logging"
   ]
  },
  {
   "cell_type": "code",
   "execution_count": 19,
   "metadata": {
    "scrolled": true
   },
   "outputs": [
    {
     "name": "stdout",
     "output_type": "stream",
     "text": [
      "=====================================\n",
      "Arguments:\n",
      "1\n",
      "2\n",
      "3\n",
      "True\n",
      "qwerty\n",
      "\n",
      "Keywords:\n",
      "param1 = 123\n",
      "bool_param = True\n",
      "str_param = string\n",
      "=====================================\n"
     ]
    }
   ],
   "source": [
    "@logging_with_params2(1,2,3,True, 'qwerty', param1=123, bool_param=True, str_param='string')\n",
    "def my_func7(p1, p2):\n",
    "    print(p1, p2)"
   ]
  },
  {
   "cell_type": "code",
   "execution_count": 20,
   "metadata": {
    "scrolled": true
   },
   "outputs": [
    {
     "name": "stdout",
     "output_type": "stream",
     "text": [
      "Decorator arguments: 1 2\n",
      "1 2\n",
      "my_func7 (1, 2) {}\n"
     ]
    }
   ],
   "source": [
    "my_func7(1,2)"
   ]
  },
  {
   "cell_type": "code",
   "execution_count": 21,
   "metadata": {},
   "outputs": [],
   "source": [
    "@benchmark\n",
    "def time1(n):\n",
    "    res = []\n",
    "    for i in range(n):\n",
    "        res.append(i)\n",
    "    return res"
   ]
  },
  {
   "cell_type": "code",
   "execution_count": 22,
   "metadata": {
    "scrolled": false
   },
   "outputs": [
    {
     "name": "stderr",
     "output_type": "stream",
     "text": [
      "C:\\ProgramData\\Anaconda3\\lib\\site-packages\\ipykernel_launcher.py:5: DeprecationWarning: time.clock has been deprecated in Python 3.3 and will be removed from Python 3.8: use time.perf_counter or time.process_time instead\n",
      "  \"\"\"\n"
     ]
    },
    {
     "name": "stdout",
     "output_type": "stream",
     "text": [
      "time1 1.1639983\n"
     ]
    },
    {
     "name": "stderr",
     "output_type": "stream",
     "text": [
      "C:\\ProgramData\\Anaconda3\\lib\\site-packages\\ipykernel_launcher.py:7: DeprecationWarning: time.clock has been deprecated in Python 3.3 and will be removed from Python 3.8: use time.perf_counter or time.process_time instead\n",
      "  import sys\n"
     ]
    }
   ],
   "source": [
    "tt1 = time1(10000000)"
   ]
  },
  {
   "cell_type": "code",
   "execution_count": 23,
   "metadata": {},
   "outputs": [],
   "source": [
    "@benchmark\n",
    "def time2(n):\n",
    "    return [i for i in range(n)]"
   ]
  },
  {
   "cell_type": "code",
   "execution_count": 24,
   "metadata": {
    "scrolled": false
   },
   "outputs": [
    {
     "name": "stderr",
     "output_type": "stream",
     "text": [
      "C:\\ProgramData\\Anaconda3\\lib\\site-packages\\ipykernel_launcher.py:5: DeprecationWarning: time.clock has been deprecated in Python 3.3 and will be removed from Python 3.8: use time.perf_counter or time.process_time instead\n",
      "  \"\"\"\n"
     ]
    },
    {
     "name": "stdout",
     "output_type": "stream",
     "text": [
      "time2 0.7958025999999996\n"
     ]
    },
    {
     "name": "stderr",
     "output_type": "stream",
     "text": [
      "C:\\ProgramData\\Anaconda3\\lib\\site-packages\\ipykernel_launcher.py:7: DeprecationWarning: time.clock has been deprecated in Python 3.3 and will be removed from Python 3.8: use time.perf_counter or time.process_time instead\n",
      "  import sys\n"
     ]
    }
   ],
   "source": [
    "tt2 = time2(10000000)"
   ]
  },
  {
   "cell_type": "code",
   "execution_count": null,
   "metadata": {},
   "outputs": [],
   "source": []
  },
  {
   "cell_type": "code",
   "execution_count": null,
   "metadata": {},
   "outputs": [],
   "source": []
  }
 ],
 "metadata": {
  "kernelspec": {
   "display_name": "Python 3",
   "language": "python",
   "name": "python3"
  },
  "language_info": {
   "codemirror_mode": {
    "name": "ipython",
    "version": 3
   },
   "file_extension": ".py",
   "mimetype": "text/x-python",
   "name": "python",
   "nbconvert_exporter": "python",
   "pygments_lexer": "ipython3",
   "version": "3.7.6"
  }
 },
 "nbformat": 4,
 "nbformat_minor": 4
}
